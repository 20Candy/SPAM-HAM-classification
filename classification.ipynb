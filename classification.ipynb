{
 "cells": [
  {
   "cell_type": "markdown",
   "metadata": {},
   "source": [
    "# Spam - Ham Classification"
   ]
  },
  {
   "cell_type": "code",
   "execution_count": 42,
   "metadata": {},
   "outputs": [
    {
     "data": {
      "text/html": [
       "<div>\n",
       "<style scoped>\n",
       "    .dataframe tbody tr th:only-of-type {\n",
       "        vertical-align: middle;\n",
       "    }\n",
       "\n",
       "    .dataframe tbody tr th {\n",
       "        vertical-align: top;\n",
       "    }\n",
       "\n",
       "    .dataframe thead th {\n",
       "        text-align: right;\n",
       "    }\n",
       "</style>\n",
       "<table border=\"1\" class=\"dataframe\">\n",
       "  <thead>\n",
       "    <tr style=\"text-align: right;\">\n",
       "      <th></th>\n",
       "      <th>label</th>\n",
       "      <th>message</th>\n",
       "    </tr>\n",
       "  </thead>\n",
       "  <tbody>\n",
       "    <tr>\n",
       "      <th>0</th>\n",
       "      <td>ham</td>\n",
       "      <td>Go until jurong point, crazy.. Available only ...</td>\n",
       "    </tr>\n",
       "    <tr>\n",
       "      <th>1</th>\n",
       "      <td>ham</td>\n",
       "      <td>Ok lar... Joking wif u oni...</td>\n",
       "    </tr>\n",
       "    <tr>\n",
       "      <th>2</th>\n",
       "      <td>spam</td>\n",
       "      <td>Free entry in 2 a wkly comp to win FA Cup fina...</td>\n",
       "    </tr>\n",
       "    <tr>\n",
       "      <th>3</th>\n",
       "      <td>ham</td>\n",
       "      <td>U dun say so early hor... U c already then say...</td>\n",
       "    </tr>\n",
       "    <tr>\n",
       "      <th>4</th>\n",
       "      <td>ham</td>\n",
       "      <td>Nah I don't think he goes to usf, he lives aro...</td>\n",
       "    </tr>\n",
       "  </tbody>\n",
       "</table>\n",
       "</div>"
      ],
      "text/plain": [
       "  label                                            message\n",
       "0   ham  Go until jurong point, crazy.. Available only ...\n",
       "1   ham                      Ok lar... Joking wif u oni...\n",
       "2  spam  Free entry in 2 a wkly comp to win FA Cup fina...\n",
       "3   ham  U dun say so early hor... U c already then say...\n",
       "4   ham  Nah I don't think he goes to usf, he lives aro..."
      ]
     },
     "execution_count": 42,
     "metadata": {},
     "output_type": "execute_result"
    }
   ],
   "source": [
    "import pandas as pd\n",
    "# Leer el archivo de texto \"data.csv\" en un DataFrame de pandas\n",
    "df = pd.read_csv(\"data.csv\", sep=',', header=None, names=['label', 'message'])\n",
    "df.head()"
   ]
  },
  {
   "cell_type": "code",
   "execution_count": 43,
   "metadata": {},
   "outputs": [
    {
     "name": "stderr",
     "output_type": "stream",
     "text": [
      "C:\\Users\\carev\\AppData\\Local\\Temp\\ipykernel_155760\\70690099.py:10: FutureWarning: The default value of regex will change from True to False in a future version.\n",
      "  df['message'] = df['message'].str.replace(r'\\d+', '')\n",
      "[nltk_data] Downloading package stopwords to\n",
      "[nltk_data]     C:\\Users\\carev\\AppData\\Roaming\\nltk_data...\n",
      "[nltk_data]   Package stopwords is already up-to-date!\n"
     ]
    },
    {
     "data": {
      "text/html": [
       "<div>\n",
       "<style scoped>\n",
       "    .dataframe tbody tr th:only-of-type {\n",
       "        vertical-align: middle;\n",
       "    }\n",
       "\n",
       "    .dataframe tbody tr th {\n",
       "        vertical-align: top;\n",
       "    }\n",
       "\n",
       "    .dataframe thead th {\n",
       "        text-align: right;\n",
       "    }\n",
       "</style>\n",
       "<table border=\"1\" class=\"dataframe\">\n",
       "  <thead>\n",
       "    <tr style=\"text-align: right;\">\n",
       "      <th></th>\n",
       "      <th>label</th>\n",
       "      <th>message</th>\n",
       "    </tr>\n",
       "  </thead>\n",
       "  <tbody>\n",
       "    <tr>\n",
       "      <th>0</th>\n",
       "      <td>0</td>\n",
       "      <td>go jurong point crazi avail bugi n great world...</td>\n",
       "    </tr>\n",
       "    <tr>\n",
       "      <th>1</th>\n",
       "      <td>0</td>\n",
       "      <td>ok lar joke wif u oni</td>\n",
       "    </tr>\n",
       "    <tr>\n",
       "      <th>2</th>\n",
       "      <td>1</td>\n",
       "      <td>free entri wkli comp win fa cup final tkt st m...</td>\n",
       "    </tr>\n",
       "    <tr>\n",
       "      <th>3</th>\n",
       "      <td>0</td>\n",
       "      <td>u dun say earli hor u c alreadi say</td>\n",
       "    </tr>\n",
       "    <tr>\n",
       "      <th>4</th>\n",
       "      <td>0</td>\n",
       "      <td>nah dont think goe usf live around though</td>\n",
       "    </tr>\n",
       "  </tbody>\n",
       "</table>\n",
       "</div>"
      ],
      "text/plain": [
       "   label                                            message\n",
       "0      0  go jurong point crazi avail bugi n great world...\n",
       "1      0                              ok lar joke wif u oni\n",
       "2      1  free entri wkli comp win fa cup final tkt st m...\n",
       "3      0                u dun say earli hor u c alreadi say\n",
       "4      0          nah dont think goe usf live around though"
      ]
     },
     "execution_count": 43,
     "metadata": {},
     "output_type": "execute_result"
    }
   ],
   "source": [
    "import nltk\n",
    "from nltk.corpus import stopwords\n",
    "from nltk.stem import PorterStemmer\n",
    "import string\n",
    "\n",
    "# Convertir a minúsculas\n",
    "df['message'] = df['message'].str.lower()\n",
    "\n",
    "# Eliminar números\n",
    "df['message'] = df['message'].str.replace(r'\\d+', '')\n",
    "\n",
    "# Eliminar signos de puntuación\n",
    "df['message'] = df['message'].str.translate(str.maketrans('', '', string.punctuation))\n",
    "\n",
    "# Eliminar palabras vacías (stop words)\n",
    "nltk.download('stopwords')\n",
    "stop_words = set(stopwords.words('english'))\n",
    "df['message'] = df['message'].apply(lambda x: ' '.join(word for word in x.split() if word not in stop_words))\n",
    "\n",
    "# Realizar lematización o stemming (opcional)\n",
    "stemmer = PorterStemmer()\n",
    "df['message'] = df['message'].apply(lambda x: ' '.join(stemmer.stem(word) for word in x.split()))\n",
    "\n",
    "# Codificar las etiquetas en números\n",
    "df['label'] = df['label'].map({'ham': 0, 'spam': 1})\n",
    "\n",
    "# Mostrar el DataFrame\n",
    "df.head()"
   ]
  },
  {
   "cell_type": "code",
   "execution_count": 44,
   "metadata": {},
   "outputs": [],
   "source": [
    "from sklearn.model_selection import train_test_split\n",
    "\n",
    "# Dividir el DataFrame en conjuntos de entrenamiento y validación\n",
    "X_train, X_valid, y_train, y_valid = train_test_split(df['message'], df['label'], test_size=0.2, random_state=42)\n",
    "\n",
    "# X_train: Conjunto de entrenamiento (mensajes)\n",
    "# y_train: Etiquetas correspondientes al conjunto de entrenamiento (spam o ham)\n",
    "# X_valid: Conjunto de validación (mensajes)\n",
    "# y_valid: Etiquetas correspondientes al conjunto de validación"
   ]
  },
  {
   "cell_type": "code",
   "execution_count": 45,
   "metadata": {},
   "outputs": [],
   "source": [
    "import tensorflow as tf\n",
    "from tensorflow.keras.preprocessing.text import Tokenizer\n",
    "from tensorflow.keras.preprocessing.sequence import pad_sequences\n",
    "\n",
    "\n",
    "# Tokenización de texto\n",
    "tokenizer = Tokenizer()\n",
    "tokenizer.fit_on_texts(X_train)\n",
    "X_train_sequences = tokenizer.texts_to_sequences(X_train)\n",
    "X_valid_sequences = tokenizer.texts_to_sequences(X_valid)\n",
    "\n",
    "# Padding de secuencias para que tengan la misma longitud\n",
    "max_length = 100  # longitud máxima de una secuencia\n",
    "X_train_padded = pad_sequences(X_train_sequences, maxlen=max_length, padding='post', truncating='post')\n",
    "X_valid_padded = pad_sequences(X_valid_sequences, maxlen=max_length, padding='post', truncating='post')\n",
    "\n"
   ]
  },
  {
   "cell_type": "code",
   "execution_count": 46,
   "metadata": {},
   "outputs": [],
   "source": [
    "\n",
    "import tensorflow as tf\n",
    "from tensorflow.keras.models import Sequential\n",
    "from tensorflow.keras.layers import Embedding, LSTM, Dense\n"
   ]
  },
  {
   "cell_type": "code",
   "execution_count": 47,
   "metadata": {},
   "outputs": [],
   "source": [
    "model = Sequential()\n"
   ]
  },
  {
   "cell_type": "code",
   "execution_count": 48,
   "metadata": {},
   "outputs": [],
   "source": [
    "\n",
    "vocab_size = len(tokenizer.word_index) + 1\n",
    "embedding_dim = 50\n",
    "model.add(Embedding(input_dim=vocab_size, output_dim=embedding_dim, input_length=max_length))\n"
   ]
  },
  {
   "cell_type": "code",
   "execution_count": 49,
   "metadata": {},
   "outputs": [],
   "source": [
    "\n",
    "model.add(LSTM(units=64, return_sequences=True))"
   ]
  },
  {
   "cell_type": "code",
   "execution_count": 50,
   "metadata": {},
   "outputs": [],
   "source": [
    "\n",
    "model.add(Dense(1, activation='sigmoid'))\n"
   ]
  },
  {
   "cell_type": "code",
   "execution_count": 51,
   "metadata": {},
   "outputs": [],
   "source": [
    "\n",
    "model.compile(optimizer='adam', loss='binary_crossentropy', metrics=['accuracy'])\n"
   ]
  },
  {
   "cell_type": "code",
   "execution_count": 52,
   "metadata": {},
   "outputs": [
    {
     "name": "stdout",
     "output_type": "stream",
     "text": [
      "Epoch 1/5\n",
      "140/140 [==============================] - 10s 48ms/step - loss: 0.3771 - accuracy: 0.8810 - val_loss: 0.2084 - val_accuracy: 0.9525\n",
      "Epoch 2/5\n",
      "140/140 [==============================] - 6s 45ms/step - loss: 0.1119 - accuracy: 0.9766 - val_loss: 0.1310 - val_accuracy: 0.9719\n",
      "Epoch 3/5\n",
      "140/140 [==============================] - 7s 48ms/step - loss: 0.0600 - accuracy: 0.9891 - val_loss: 0.1054 - val_accuracy: 0.9778\n",
      "Epoch 4/5\n",
      "140/140 [==============================] - 6s 40ms/step - loss: 0.0358 - accuracy: 0.9934 - val_loss: 0.1072 - val_accuracy: 0.9804\n",
      "Epoch 5/5\n",
      "140/140 [==============================] - 5s 37ms/step - loss: 0.0305 - accuracy: 0.9944 - val_loss: 0.1327 - val_accuracy: 0.9746\n"
     ]
    }
   ],
   "source": [
    "epochs = 5\n",
    "history = model.fit(X_train_padded, y_train, epochs=epochs, validation_data=(X_valid_padded, y_valid))\n"
   ]
  },
  {
   "cell_type": "code",
   "execution_count": 53,
   "metadata": {},
   "outputs": [],
   "source": [
    "# Función para predecir si un mensaje es \"spam\" o \"no spam\"\n",
    "def predecir_spam_o_no_spam(mensaje):\n",
    "    # Preprocesar el mensaje de la misma manera que hicimos con los datos de entrenamiento\n",
    "    mensaje = mensaje.lower()\n",
    "    mensaje = ''.join([c for c in mensaje if c not in string.punctuation])\n",
    "    mensaje = ' '.join(word for word in mensaje.split() if word not in stop_words)\n",
    "    mensaje = ' '.join(stemmer.stem(word) for word in mensaje.split())\n",
    "    \n",
    "    # Convertir el mensaje en una secuencia de tokens y aplicar el padding\n",
    "    mensaje_secuencia = tokenizer.texts_to_sequences([mensaje])\n",
    "    mensaje_padded = pad_sequences(mensaje_secuencia, maxlen=max_length, padding='post', truncating='post')\n",
    "    \n",
    "    # Realizar la predicción\n",
    "    predicciones = model.predict(mensaje_padded)\n",
    "    \n",
    "    # Clasificar el mensaje como \"spam\" o \"no spam\" en función de las predicciones\n",
    "    if predicciones[0][0] >= 0.5:\n",
    "        return \"Spam\"\n",
    "    else:\n",
    "        return \"No Spam (Ham)\"\n"
   ]
  },
  {
   "cell_type": "code",
   "execution_count": 54,
   "metadata": {},
   "outputs": [
    {
     "name": "stdout",
     "output_type": "stream",
     "text": [
      "1/1 [==============================] - 0s 483ms/step\n",
      "Predicción: Spam\n"
     ]
    }
   ],
   "source": [
    "mensaje_prueba = \"Congratulations ur awarded $500 of CD vouchers or 125gift guaranteed & Free entry 2 £100 wkly draw txt MUSIC to 87066\"\n",
    "resultado = predecir_spam_o_no_spam(mensaje_prueba)\n",
    "print(f\"Predicción: {resultado}\")\n"
   ]
  }
 ],
 "metadata": {
  "kernelspec": {
   "display_name": "Python 3",
   "language": "python",
   "name": "python3"
  },
  "language_info": {
   "codemirror_mode": {
    "name": "ipython",
    "version": 3
   },
   "file_extension": ".py",
   "mimetype": "text/x-python",
   "name": "python",
   "nbconvert_exporter": "python",
   "pygments_lexer": "ipython3",
   "version": "3.11.4"
  },
  "orig_nbformat": 4
 },
 "nbformat": 4,
 "nbformat_minor": 2
}
